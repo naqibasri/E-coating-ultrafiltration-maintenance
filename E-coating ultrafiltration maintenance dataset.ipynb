{
 "cells": [
  {
   "cell_type": "markdown",
   "id": "740e5c6b",
   "metadata": {},
   "source": [
    "# E-coating ultrafiltration maintenance dataset\n",
    "\n",
    "###### Dataset: https://www.kaggle.com/boyangs444/process-data-for-predictive-maintenance"
   ]
  },
  {
   "cell_type": "code",
   "execution_count": 222,
   "id": "b07331f5",
   "metadata": {},
   "outputs": [],
   "source": [
    "import numpy as np\n",
    "import pandas as pd"
   ]
  },
  {
   "cell_type": "code",
   "execution_count": 259,
   "id": "07429a0b",
   "metadata": {},
   "outputs": [
    {
     "name": "stdout",
     "output_type": "stream",
     "text": [
      "                        TIME       FM1       PE1       PE2       PE3  \\\n",
      "0  2020-07-05 21:00:00+00:00  0.291841  0.944212  0.969845  0.909817   \n",
      "1  2020-07-05 21:30:00+00:00  0.290384  0.947971  0.971459  0.913576   \n",
      "2  2020-07-05 22:00:00+00:00  0.279458  0.944138  0.968994  0.912516   \n",
      "3  2020-07-05 22:30:00+00:00  0.288927  0.950337  0.976253  0.915991   \n",
      "4  2020-07-05 23:00:00+00:00  0.299610  0.950226  0.975747  0.916188   \n",
      "\n",
      "        PE4       TP1       TP2       EPOCH  \n",
      "0  0.752879  0.128703  0.729592  1593982800  \n",
      "1  0.753741  0.117572  0.723905  1593984600  \n",
      "2  0.753187  0.111242  0.720671  1593986400  \n",
      "3  0.756699  0.102464  0.716186  1593988200  \n",
      "4  0.756563  0.093201  0.711454  1593990000  \n",
      "               TIME       FM1       PE1       PE2       PE3       PE4  \\\n",
      "0  16/09/2013 00:00  1.000000  0.538462  0.538462  0.123077  0.123077   \n",
      "1  16/09/2013 00:30  0.999475  0.538416  0.538416  0.123077  0.122985   \n",
      "2  16/09/2013 01:00  0.998950  0.538370  0.538370  0.123077  0.122894   \n",
      "3  16/09/2013 01:30  0.998424  0.538324  0.538324  0.123077  0.122802   \n",
      "4  16/09/2013 02:00  0.997899  0.538278  0.538278  0.123077  0.122711   \n",
      "\n",
      "        TP1       EPOCH  \n",
      "0  0.142857  1379289600  \n",
      "1  0.143787  1379291400  \n",
      "2  0.144717  1379293200  \n",
      "3  0.145647  1379295000  \n",
      "4  0.146577  1379296800  \n"
     ]
    }
   ],
   "source": [
    "data_IoT = pd.read_csv('iiot_30min_norm.csv')\n",
    "data_manual = pd.read_csv('manual_30min_norm.csv')\n",
    "print(data_IoT.head())\n",
    "print(data_manual.head())"
   ]
  },
  {
   "cell_type": "code",
   "execution_count": 260,
   "id": "8be35a90",
   "metadata": {},
   "outputs": [
    {
     "data": {
      "text/html": [
       "<div>\n",
       "<style scoped>\n",
       "    .dataframe tbody tr th:only-of-type {\n",
       "        vertical-align: middle;\n",
       "    }\n",
       "\n",
       "    .dataframe tbody tr th {\n",
       "        vertical-align: top;\n",
       "    }\n",
       "\n",
       "    .dataframe thead th {\n",
       "        text-align: right;\n",
       "    }\n",
       "</style>\n",
       "<table border=\"1\" class=\"dataframe\">\n",
       "  <thead>\n",
       "    <tr style=\"text-align: right;\">\n",
       "      <th></th>\n",
       "      <th>FM1</th>\n",
       "      <th>PE1</th>\n",
       "      <th>PE2</th>\n",
       "      <th>PE3</th>\n",
       "      <th>PE4</th>\n",
       "      <th>TP1</th>\n",
       "      <th>TP2</th>\n",
       "      <th>EPOCH</th>\n",
       "    </tr>\n",
       "  </thead>\n",
       "  <tbody>\n",
       "    <tr>\n",
       "      <th>count</th>\n",
       "      <td>720.000000</td>\n",
       "      <td>720.000000</td>\n",
       "      <td>720.000000</td>\n",
       "      <td>720.000000</td>\n",
       "      <td>720.000000</td>\n",
       "      <td>720.000000</td>\n",
       "      <td>720.000000</td>\n",
       "      <td>7.200000e+02</td>\n",
       "    </tr>\n",
       "    <tr>\n",
       "      <th>mean</th>\n",
       "      <td>0.401405</td>\n",
       "      <td>0.935561</td>\n",
       "      <td>0.960597</td>\n",
       "      <td>0.907572</td>\n",
       "      <td>0.789629</td>\n",
       "      <td>0.375372</td>\n",
       "      <td>0.606721</td>\n",
       "      <td>1.594630e+09</td>\n",
       "    </tr>\n",
       "    <tr>\n",
       "      <th>std</th>\n",
       "      <td>0.113317</td>\n",
       "      <td>0.006896</td>\n",
       "      <td>0.038904</td>\n",
       "      <td>0.042093</td>\n",
       "      <td>0.051314</td>\n",
       "      <td>0.217120</td>\n",
       "      <td>0.138403</td>\n",
       "      <td>3.743825e+05</td>\n",
       "    </tr>\n",
       "    <tr>\n",
       "      <th>min</th>\n",
       "      <td>0.000000</td>\n",
       "      <td>0.922572</td>\n",
       "      <td>0.277070</td>\n",
       "      <td>0.023603</td>\n",
       "      <td>0.000000</td>\n",
       "      <td>0.000000</td>\n",
       "      <td>0.000000</td>\n",
       "      <td>1.593983e+09</td>\n",
       "    </tr>\n",
       "    <tr>\n",
       "      <th>25%</th>\n",
       "      <td>0.314962</td>\n",
       "      <td>0.931487</td>\n",
       "      <td>0.959694</td>\n",
       "      <td>0.905535</td>\n",
       "      <td>0.781885</td>\n",
       "      <td>0.201964</td>\n",
       "      <td>0.512354</td>\n",
       "      <td>1.594306e+09</td>\n",
       "    </tr>\n",
       "    <tr>\n",
       "      <th>50%</th>\n",
       "      <td>0.385196</td>\n",
       "      <td>0.934538</td>\n",
       "      <td>0.963252</td>\n",
       "      <td>0.910945</td>\n",
       "      <td>0.789128</td>\n",
       "      <td>0.343614</td>\n",
       "      <td>0.599224</td>\n",
       "      <td>1.594630e+09</td>\n",
       "    </tr>\n",
       "    <tr>\n",
       "      <th>75%</th>\n",
       "      <td>0.455849</td>\n",
       "      <td>0.938069</td>\n",
       "      <td>0.966236</td>\n",
       "      <td>0.917138</td>\n",
       "      <td>0.811603</td>\n",
       "      <td>0.511152</td>\n",
       "      <td>0.714562</td>\n",
       "      <td>1.594953e+09</td>\n",
       "    </tr>\n",
       "    <tr>\n",
       "      <th>max</th>\n",
       "      <td>1.000000</td>\n",
       "      <td>0.974454</td>\n",
       "      <td>1.000000</td>\n",
       "      <td>0.944446</td>\n",
       "      <td>0.840141</td>\n",
       "      <td>1.000000</td>\n",
       "      <td>1.000000</td>\n",
       "      <td>1.595277e+09</td>\n",
       "    </tr>\n",
       "  </tbody>\n",
       "</table>\n",
       "</div>"
      ],
      "text/plain": [
       "              FM1         PE1         PE2         PE3         PE4         TP1  \\\n",
       "count  720.000000  720.000000  720.000000  720.000000  720.000000  720.000000   \n",
       "mean     0.401405    0.935561    0.960597    0.907572    0.789629    0.375372   \n",
       "std      0.113317    0.006896    0.038904    0.042093    0.051314    0.217120   \n",
       "min      0.000000    0.922572    0.277070    0.023603    0.000000    0.000000   \n",
       "25%      0.314962    0.931487    0.959694    0.905535    0.781885    0.201964   \n",
       "50%      0.385196    0.934538    0.963252    0.910945    0.789128    0.343614   \n",
       "75%      0.455849    0.938069    0.966236    0.917138    0.811603    0.511152   \n",
       "max      1.000000    0.974454    1.000000    0.944446    0.840141    1.000000   \n",
       "\n",
       "              TP2         EPOCH  \n",
       "count  720.000000  7.200000e+02  \n",
       "mean     0.606721  1.594630e+09  \n",
       "std      0.138403  3.743825e+05  \n",
       "min      0.000000  1.593983e+09  \n",
       "25%      0.512354  1.594306e+09  \n",
       "50%      0.599224  1.594630e+09  \n",
       "75%      0.714562  1.594953e+09  \n",
       "max      1.000000  1.595277e+09  "
      ]
     },
     "execution_count": 260,
     "metadata": {},
     "output_type": "execute_result"
    }
   ],
   "source": [
    "data_IoT.describe()"
   ]
  },
  {
   "cell_type": "code",
   "execution_count": 261,
   "id": "6e3012f1",
   "metadata": {},
   "outputs": [
    {
     "data": {
      "text/html": [
       "<div>\n",
       "<style scoped>\n",
       "    .dataframe tbody tr th:only-of-type {\n",
       "        vertical-align: middle;\n",
       "    }\n",
       "\n",
       "    .dataframe tbody tr th {\n",
       "        vertical-align: top;\n",
       "    }\n",
       "\n",
       "    .dataframe thead th {\n",
       "        text-align: right;\n",
       "    }\n",
       "</style>\n",
       "<table border=\"1\" class=\"dataframe\">\n",
       "  <thead>\n",
       "    <tr style=\"text-align: right;\">\n",
       "      <th></th>\n",
       "      <th>FM1</th>\n",
       "      <th>PE1</th>\n",
       "      <th>PE2</th>\n",
       "      <th>PE3</th>\n",
       "      <th>PE4</th>\n",
       "      <th>TP1</th>\n",
       "      <th>EPOCH</th>\n",
       "    </tr>\n",
       "  </thead>\n",
       "  <tbody>\n",
       "    <tr>\n",
       "      <th>count</th>\n",
       "      <td>110641.000000</td>\n",
       "      <td>110641.000000</td>\n",
       "      <td>110641.000000</td>\n",
       "      <td>110641.000000</td>\n",
       "      <td>110641.000000</td>\n",
       "      <td>110641.000000</td>\n",
       "      <td>1.106410e+05</td>\n",
       "    </tr>\n",
       "    <tr>\n",
       "      <th>mean</th>\n",
       "      <td>0.468309</td>\n",
       "      <td>0.561586</td>\n",
       "      <td>0.585491</td>\n",
       "      <td>0.524408</td>\n",
       "      <td>0.399311</td>\n",
       "      <td>0.396514</td>\n",
       "      <td>1.478866e+09</td>\n",
       "    </tr>\n",
       "    <tr>\n",
       "      <th>std</th>\n",
       "      <td>0.258924</td>\n",
       "      <td>0.059871</td>\n",
       "      <td>0.040076</td>\n",
       "      <td>0.125889</td>\n",
       "      <td>0.125387</td>\n",
       "      <td>0.080811</td>\n",
       "      <td>5.749101e+07</td>\n",
       "    </tr>\n",
       "    <tr>\n",
       "      <th>min</th>\n",
       "      <td>0.000000</td>\n",
       "      <td>0.461538</td>\n",
       "      <td>0.138462</td>\n",
       "      <td>0.123077</td>\n",
       "      <td>0.000000</td>\n",
       "      <td>0.000000</td>\n",
       "      <td>1.379290e+09</td>\n",
       "    </tr>\n",
       "    <tr>\n",
       "      <th>25%</th>\n",
       "      <td>0.264587</td>\n",
       "      <td>0.511218</td>\n",
       "      <td>0.553846</td>\n",
       "      <td>0.553846</td>\n",
       "      <td>0.373054</td>\n",
       "      <td>0.368676</td>\n",
       "      <td>1.429078e+09</td>\n",
       "    </tr>\n",
       "    <tr>\n",
       "      <th>50%</th>\n",
       "      <td>0.410539</td>\n",
       "      <td>0.534982</td>\n",
       "      <td>0.600000</td>\n",
       "      <td>0.568292</td>\n",
       "      <td>0.439034</td>\n",
       "      <td>0.383929</td>\n",
       "      <td>1.478866e+09</td>\n",
       "    </tr>\n",
       "    <tr>\n",
       "      <th>75%</th>\n",
       "      <td>0.631303</td>\n",
       "      <td>0.615385</td>\n",
       "      <td>0.615385</td>\n",
       "      <td>0.584615</td>\n",
       "      <td>0.476923</td>\n",
       "      <td>0.405506</td>\n",
       "      <td>1.528654e+09</td>\n",
       "    </tr>\n",
       "    <tr>\n",
       "      <th>max</th>\n",
       "      <td>1.000000</td>\n",
       "      <td>1.000000</td>\n",
       "      <td>0.646154</td>\n",
       "      <td>0.676923</td>\n",
       "      <td>0.615385</td>\n",
       "      <td>1.000000</td>\n",
       "      <td>1.578442e+09</td>\n",
       "    </tr>\n",
       "  </tbody>\n",
       "</table>\n",
       "</div>"
      ],
      "text/plain": [
       "                 FM1            PE1            PE2            PE3  \\\n",
       "count  110641.000000  110641.000000  110641.000000  110641.000000   \n",
       "mean        0.468309       0.561586       0.585491       0.524408   \n",
       "std         0.258924       0.059871       0.040076       0.125889   \n",
       "min         0.000000       0.461538       0.138462       0.123077   \n",
       "25%         0.264587       0.511218       0.553846       0.553846   \n",
       "50%         0.410539       0.534982       0.600000       0.568292   \n",
       "75%         0.631303       0.615385       0.615385       0.584615   \n",
       "max         1.000000       1.000000       0.646154       0.676923   \n",
       "\n",
       "                 PE4            TP1         EPOCH  \n",
       "count  110641.000000  110641.000000  1.106410e+05  \n",
       "mean        0.399311       0.396514  1.478866e+09  \n",
       "std         0.125387       0.080811  5.749101e+07  \n",
       "min         0.000000       0.000000  1.379290e+09  \n",
       "25%         0.373054       0.368676  1.429078e+09  \n",
       "50%         0.439034       0.383929  1.478866e+09  \n",
       "75%         0.476923       0.405506  1.528654e+09  \n",
       "max         0.615385       1.000000  1.578442e+09  "
      ]
     },
     "execution_count": 261,
     "metadata": {},
     "output_type": "execute_result"
    }
   ],
   "source": [
    "data_manual.describe()"
   ]
  },
  {
   "cell_type": "code",
   "execution_count": 262,
   "id": "a2e7191d",
   "metadata": {},
   "outputs": [
    {
     "name": "stdout",
     "output_type": "stream",
     "text": [
      "<class 'pandas.core.frame.DataFrame'>\n",
      "RangeIndex: 720 entries, 0 to 719\n",
      "Data columns (total 9 columns):\n",
      " #   Column  Non-Null Count  Dtype  \n",
      "---  ------  --------------  -----  \n",
      " 0   TIME    720 non-null    object \n",
      " 1   FM1     720 non-null    float64\n",
      " 2   PE1     720 non-null    float64\n",
      " 3   PE2     720 non-null    float64\n",
      " 4   PE3     720 non-null    float64\n",
      " 5   PE4     720 non-null    float64\n",
      " 6   TP1     720 non-null    float64\n",
      " 7   TP2     720 non-null    float64\n",
      " 8   EPOCH   720 non-null    int64  \n",
      "dtypes: float64(7), int64(1), object(1)\n",
      "memory usage: 50.8+ KB\n"
     ]
    }
   ],
   "source": [
    "data_IoT.info()"
   ]
  },
  {
   "cell_type": "code",
   "execution_count": 263,
   "id": "6fc2b5f2",
   "metadata": {},
   "outputs": [
    {
     "name": "stdout",
     "output_type": "stream",
     "text": [
      "<class 'pandas.core.frame.DataFrame'>\n",
      "RangeIndex: 110641 entries, 0 to 110640\n",
      "Data columns (total 8 columns):\n",
      " #   Column  Non-Null Count   Dtype  \n",
      "---  ------  --------------   -----  \n",
      " 0   TIME    110641 non-null  object \n",
      " 1   FM1     110641 non-null  float64\n",
      " 2   PE1     110641 non-null  float64\n",
      " 3   PE2     110641 non-null  float64\n",
      " 4   PE3     110641 non-null  float64\n",
      " 5   PE4     110641 non-null  float64\n",
      " 6   TP1     110641 non-null  float64\n",
      " 7   EPOCH   110641 non-null  int64  \n",
      "dtypes: float64(6), int64(1), object(1)\n",
      "memory usage: 6.8+ MB\n"
     ]
    }
   ],
   "source": [
    "data_manual.info()"
   ]
  },
  {
   "cell_type": "code",
   "execution_count": 264,
   "id": "56aeaf98",
   "metadata": {},
   "outputs": [
    {
     "data": {
      "text/plain": [
       "TIME     0\n",
       "FM1      0\n",
       "PE1      0\n",
       "PE2      0\n",
       "PE3      0\n",
       "PE4      0\n",
       "TP1      0\n",
       "TP2      0\n",
       "EPOCH    0\n",
       "dtype: int64"
      ]
     },
     "execution_count": 264,
     "metadata": {},
     "output_type": "execute_result"
    }
   ],
   "source": [
    "data_IoT.isnull().sum()"
   ]
  },
  {
   "cell_type": "code",
   "execution_count": 265,
   "id": "121b3c43",
   "metadata": {},
   "outputs": [
    {
     "data": {
      "text/plain": [
       "TIME     0\n",
       "FM1      0\n",
       "PE1      0\n",
       "PE2      0\n",
       "PE3      0\n",
       "PE4      0\n",
       "TP1      0\n",
       "EPOCH    0\n",
       "dtype: int64"
      ]
     },
     "execution_count": 265,
     "metadata": {},
     "output_type": "execute_result"
    }
   ],
   "source": [
    "data_manual.isnull().sum()"
   ]
  },
  {
   "cell_type": "code",
   "execution_count": 266,
   "id": "1d5031dc",
   "metadata": {},
   "outputs": [
    {
     "data": {
      "text/html": [
       "<div>\n",
       "<style scoped>\n",
       "    .dataframe tbody tr th:only-of-type {\n",
       "        vertical-align: middle;\n",
       "    }\n",
       "\n",
       "    .dataframe tbody tr th {\n",
       "        vertical-align: top;\n",
       "    }\n",
       "\n",
       "    .dataframe thead th {\n",
       "        text-align: right;\n",
       "    }\n",
       "</style>\n",
       "<table border=\"1\" class=\"dataframe\">\n",
       "  <thead>\n",
       "    <tr style=\"text-align: right;\">\n",
       "      <th></th>\n",
       "      <th>FM1</th>\n",
       "      <th>PE1</th>\n",
       "      <th>PE2</th>\n",
       "      <th>PE3</th>\n",
       "      <th>PE4</th>\n",
       "      <th>TP1</th>\n",
       "      <th>TP2</th>\n",
       "      <th>EPOCH</th>\n",
       "    </tr>\n",
       "  </thead>\n",
       "  <tbody>\n",
       "    <tr>\n",
       "      <th>0</th>\n",
       "      <td>0.291841</td>\n",
       "      <td>0.944212</td>\n",
       "      <td>0.969845</td>\n",
       "      <td>0.909817</td>\n",
       "      <td>0.752879</td>\n",
       "      <td>0.128703</td>\n",
       "      <td>0.729592</td>\n",
       "      <td>1593982800</td>\n",
       "    </tr>\n",
       "    <tr>\n",
       "      <th>1</th>\n",
       "      <td>0.290384</td>\n",
       "      <td>0.947971</td>\n",
       "      <td>0.971459</td>\n",
       "      <td>0.913576</td>\n",
       "      <td>0.753741</td>\n",
       "      <td>0.117572</td>\n",
       "      <td>0.723905</td>\n",
       "      <td>1593984600</td>\n",
       "    </tr>\n",
       "    <tr>\n",
       "      <th>2</th>\n",
       "      <td>0.279458</td>\n",
       "      <td>0.944138</td>\n",
       "      <td>0.968994</td>\n",
       "      <td>0.912516</td>\n",
       "      <td>0.753187</td>\n",
       "      <td>0.111242</td>\n",
       "      <td>0.720671</td>\n",
       "      <td>1593986400</td>\n",
       "    </tr>\n",
       "    <tr>\n",
       "      <th>3</th>\n",
       "      <td>0.288927</td>\n",
       "      <td>0.950337</td>\n",
       "      <td>0.976253</td>\n",
       "      <td>0.915991</td>\n",
       "      <td>0.756699</td>\n",
       "      <td>0.102464</td>\n",
       "      <td>0.716186</td>\n",
       "      <td>1593988200</td>\n",
       "    </tr>\n",
       "    <tr>\n",
       "      <th>4</th>\n",
       "      <td>0.299610</td>\n",
       "      <td>0.950226</td>\n",
       "      <td>0.975747</td>\n",
       "      <td>0.916188</td>\n",
       "      <td>0.756563</td>\n",
       "      <td>0.093201</td>\n",
       "      <td>0.711454</td>\n",
       "      <td>1593990000</td>\n",
       "    </tr>\n",
       "  </tbody>\n",
       "</table>\n",
       "</div>"
      ],
      "text/plain": [
       "        FM1       PE1       PE2       PE3       PE4       TP1       TP2  \\\n",
       "0  0.291841  0.944212  0.969845  0.909817  0.752879  0.128703  0.729592   \n",
       "1  0.290384  0.947971  0.971459  0.913576  0.753741  0.117572  0.723905   \n",
       "2  0.279458  0.944138  0.968994  0.912516  0.753187  0.111242  0.720671   \n",
       "3  0.288927  0.950337  0.976253  0.915991  0.756699  0.102464  0.716186   \n",
       "4  0.299610  0.950226  0.975747  0.916188  0.756563  0.093201  0.711454   \n",
       "\n",
       "        EPOCH  \n",
       "0  1593982800  \n",
       "1  1593984600  \n",
       "2  1593986400  \n",
       "3  1593988200  \n",
       "4  1593990000  "
      ]
     },
     "execution_count": 266,
     "metadata": {},
     "output_type": "execute_result"
    }
   ],
   "source": [
    "data_IoT = data_IoT.drop('TIME', axis=1)\n",
    "data_IoT.head()"
   ]
  },
  {
   "cell_type": "code",
   "execution_count": 267,
   "id": "1e7c7093",
   "metadata": {},
   "outputs": [
    {
     "data": {
      "text/html": [
       "<div>\n",
       "<style scoped>\n",
       "    .dataframe tbody tr th:only-of-type {\n",
       "        vertical-align: middle;\n",
       "    }\n",
       "\n",
       "    .dataframe tbody tr th {\n",
       "        vertical-align: top;\n",
       "    }\n",
       "\n",
       "    .dataframe thead th {\n",
       "        text-align: right;\n",
       "    }\n",
       "</style>\n",
       "<table border=\"1\" class=\"dataframe\">\n",
       "  <thead>\n",
       "    <tr style=\"text-align: right;\">\n",
       "      <th></th>\n",
       "      <th>FM1</th>\n",
       "      <th>PE1</th>\n",
       "      <th>PE2</th>\n",
       "      <th>PE3</th>\n",
       "      <th>PE4</th>\n",
       "      <th>TP1</th>\n",
       "      <th>EPOCH</th>\n",
       "    </tr>\n",
       "  </thead>\n",
       "  <tbody>\n",
       "    <tr>\n",
       "      <th>0</th>\n",
       "      <td>1.000000</td>\n",
       "      <td>0.538462</td>\n",
       "      <td>0.538462</td>\n",
       "      <td>0.123077</td>\n",
       "      <td>0.123077</td>\n",
       "      <td>0.142857</td>\n",
       "      <td>1379289600</td>\n",
       "    </tr>\n",
       "    <tr>\n",
       "      <th>1</th>\n",
       "      <td>0.999475</td>\n",
       "      <td>0.538416</td>\n",
       "      <td>0.538416</td>\n",
       "      <td>0.123077</td>\n",
       "      <td>0.122985</td>\n",
       "      <td>0.143787</td>\n",
       "      <td>1379291400</td>\n",
       "    </tr>\n",
       "    <tr>\n",
       "      <th>2</th>\n",
       "      <td>0.998950</td>\n",
       "      <td>0.538370</td>\n",
       "      <td>0.538370</td>\n",
       "      <td>0.123077</td>\n",
       "      <td>0.122894</td>\n",
       "      <td>0.144717</td>\n",
       "      <td>1379293200</td>\n",
       "    </tr>\n",
       "    <tr>\n",
       "      <th>3</th>\n",
       "      <td>0.998424</td>\n",
       "      <td>0.538324</td>\n",
       "      <td>0.538324</td>\n",
       "      <td>0.123077</td>\n",
       "      <td>0.122802</td>\n",
       "      <td>0.145647</td>\n",
       "      <td>1379295000</td>\n",
       "    </tr>\n",
       "    <tr>\n",
       "      <th>4</th>\n",
       "      <td>0.997899</td>\n",
       "      <td>0.538278</td>\n",
       "      <td>0.538278</td>\n",
       "      <td>0.123077</td>\n",
       "      <td>0.122711</td>\n",
       "      <td>0.146577</td>\n",
       "      <td>1379296800</td>\n",
       "    </tr>\n",
       "  </tbody>\n",
       "</table>\n",
       "</div>"
      ],
      "text/plain": [
       "        FM1       PE1       PE2       PE3       PE4       TP1       EPOCH\n",
       "0  1.000000  0.538462  0.538462  0.123077  0.123077  0.142857  1379289600\n",
       "1  0.999475  0.538416  0.538416  0.123077  0.122985  0.143787  1379291400\n",
       "2  0.998950  0.538370  0.538370  0.123077  0.122894  0.144717  1379293200\n",
       "3  0.998424  0.538324  0.538324  0.123077  0.122802  0.145647  1379295000\n",
       "4  0.997899  0.538278  0.538278  0.123077  0.122711  0.146577  1379296800"
      ]
     },
     "execution_count": 267,
     "metadata": {},
     "output_type": "execute_result"
    }
   ],
   "source": [
    "data_manual = data_manual.drop('TIME', axis=1)\n",
    "data_manual.head()"
   ]
  },
  {
   "cell_type": "code",
   "execution_count": 273,
   "id": "a1899041",
   "metadata": {},
   "outputs": [
    {
     "data": {
      "text/plain": [
       "<AxesSubplot:>"
      ]
     },
     "execution_count": 273,
     "metadata": {},
     "output_type": "execute_result"
    },
    {
     "data": {
      "image/png": "[encoded data removed]",
      "text/plain": [
       "<Figure size 432x288 with 2 Axes>"
      ]
     },
     "metadata": {
      "needs_background": "light"
     },
     "output_type": "display_data"
    }
   ],
   "source": [
    "import matplotlib.pyplot as plt\n",
    "import seaborn as sns\n",
    "\n",
    "corr_IoT = data_IoT.corr()\n",
    "corr_manual = data_manual.corr()\n",
    "sns.heatmap(corr_IoT,annot=True)"
   ]
  },
  {
   "cell_type": "code",
   "execution_count": 233,
   "id": "ae3c20bc",
   "metadata": {},
   "outputs": [
    {
     "data": {
      "text/plain": [
       "<AxesSubplot:>"
      ]
     },
     "execution_count": 233,
     "metadata": {},
     "output_type": "execute_result"
    },
    {
     "data": {
      "image/png": "[encoded data removed]",
      "text/plain": [
       "<Figure size 432x288 with 2 Axes>"
      ]
     },
     "metadata": {
      "needs_background": "light"
     },
     "output_type": "display_data"
    }
   ],
   "source": [
    "sns.heatmap(corr_manual,annot=True)"
   ]
  },
  {
   "cell_type": "code",
   "execution_count": null,
   "id": "431e150d",
   "metadata": {},
   "outputs": [],
   "source": []
  },
  {
   "cell_type": "markdown",
   "id": "0da2d462",
   "metadata": {},
   "source": [
    "## Machine Learning for IIoT Sensor Readings\t"
   ]
  },
  {
   "cell_type": "code",
   "execution_count": 268,
   "id": "212e569c",
   "metadata": {},
   "outputs": [
    {
     "name": "stdout",
     "output_type": "stream",
     "text": [
      "        PE1       PE2       PE3       PE4       TP1       TP2       EPOCH\n",
      "0  0.944212  0.969845  0.909817  0.752879  0.128703  0.729592  1593982800\n",
      "1  0.947971  0.971459  0.913576  0.753741  0.117572  0.723905  1593984600\n",
      "2  0.944138  0.968994  0.912516  0.753187  0.111242  0.720671  1593986400\n",
      "3  0.950337  0.976253  0.915991  0.756699  0.102464  0.716186  1593988200\n",
      "4  0.950226  0.975747  0.916188  0.756563  0.093201  0.711454  1593990000\n",
      "\n",
      "0    0.291841\n",
      "1    0.290384\n",
      "2    0.279458\n",
      "3    0.288927\n",
      "4    0.299610\n",
      "Name: FM1, dtype: float64\n"
     ]
    }
   ],
   "source": [
    "X = data_IoT.iloc[:,1:]\n",
    "y = data_IoT.iloc[:,0]\n",
    "print(X.head())\n",
    "print()\n",
    "print(y.head())"
   ]
  },
  {
   "cell_type": "code",
   "execution_count": 269,
   "id": "c5856337",
   "metadata": {},
   "outputs": [
    {
     "data": {
      "text/plain": [
       "count    720.000000\n",
       "mean       0.401405\n",
       "std        0.113317\n",
       "min        0.000000\n",
       "25%        0.314962\n",
       "50%        0.385196\n",
       "75%        0.455849\n",
       "max        1.000000\n",
       "Name: FM1, dtype: float64"
      ]
     },
     "execution_count": 269,
     "metadata": {},
     "output_type": "execute_result"
    }
   ],
   "source": [
    "y.describe()"
   ]
  },
  {
   "cell_type": "code",
   "execution_count": 270,
   "id": "1cb32808",
   "metadata": {},
   "outputs": [
    {
     "name": "stdout",
     "output_type": "stream",
     "text": [
      "(576, 7)\n",
      "(144, 7)\n",
      "(576,)\n",
      "(144,)\n"
     ]
    }
   ],
   "source": [
    "from sklearn.model_selection import train_test_split\n",
    "X_train, X_test, y_train, y_test = train_test_split(X,y, test_size=0.20, random_state = 5)\n",
    "print(X_train.shape)\n",
    "print(X_test.shape)\n",
    "print(y_train.shape)\n",
    "print(y_test.shape)\n"
   ]
  },
  {
   "cell_type": "markdown",
   "id": "fff7473c",
   "metadata": {},
   "source": [
    "### Linear Regression"
   ]
  },
  {
   "cell_type": "code",
   "execution_count": 237,
   "id": "1e9f7b8c",
   "metadata": {},
   "outputs": [
    {
     "name": "stdout",
     "output_type": "stream",
     "text": [
      "r2 score for IoT: 0.24743827928971662\n"
     ]
    }
   ],
   "source": [
    "from sklearn.linear_model import LinearRegression\n",
    "from sklearn.metrics import r2_score\n",
    "\n",
    "model_IoT = LinearRegression().fit(X_train, y_train)\n",
    "y_pred = model_IoT.predict(X_test)\n",
    "r2_IoT = r2_score(y_test, y_pred)\n",
    "print('r2 score for IoT: {}'.format(r2_IoT))"
   ]
  },
  {
   "cell_type": "code",
   "execution_count": 73,
   "id": "431bedaa",
   "metadata": {},
   "outputs": [
    {
     "name": "stdout",
     "output_type": "stream",
     "text": [
      "Collecting xgboost\n",
      "  Downloading xgboost-1.5.0-py3-none-win_amd64.whl (106.6 MB)\n",
      "Requirement already satisfied: scipy in c:\\users\\c022\\anaconda3\\lib\\site-packages (from xgboost) (1.6.2)\n",
      "Requirement already satisfied: numpy in c:\\users\\c022\\anaconda3\\lib\\site-packages (from xgboost) (1.19.5)\n",
      "Installing collected packages: xgboost\n",
      "Successfully installed xgboost-1.5.0\n",
      "Note: you may need to restart the kernel to use updated packages.\n"
     ]
    },
    {
     "name": "stderr",
     "output_type": "stream",
     "text": [
      "WARNING: You are using pip version 21.2.4; however, version 21.3.1 is available.\n",
      "You should consider upgrading via the 'C:\\Users\\C022\\anaconda3\\python.exe -m pip install --upgrade pip' command.\n"
     ]
    }
   ],
   "source": [
    "pip install xgboost"
   ]
  },
  {
   "cell_type": "markdown",
   "id": "f6f18caa",
   "metadata": {},
   "source": [
    "### XGB Regressor"
   ]
  },
  {
   "cell_type": "code",
   "execution_count": 135,
   "id": "690f73bf",
   "metadata": {},
   "outputs": [
    {
     "name": "stdout",
     "output_type": "stream",
     "text": [
      "r2 score for IoT: 0.9442281415497097\n"
     ]
    }
   ],
   "source": [
    "from xgboost import XGBRegressor\n",
    "\n",
    "model_IoT = XGBRegressor().fit(X_train,y_train)\n",
    "y_pred= model_IoT.predict(X_test)\n",
    "r2_IoT = r2_score(y_test, y_pred)\n",
    "print('r2 score for IoT: {}'.format(r2_IoT))"
   ]
  },
  {
   "cell_type": "markdown",
   "id": "bd688473",
   "metadata": {},
   "source": [
    "### Random Forest Regressor"
   ]
  },
  {
   "cell_type": "code",
   "execution_count": 137,
   "id": "08409e7c",
   "metadata": {},
   "outputs": [
    {
     "name": "stdout",
     "output_type": "stream",
     "text": [
      "r2 score for IoT: 0.9423235974203117\n"
     ]
    }
   ],
   "source": [
    "from sklearn.ensemble import RandomForestRegressor\n",
    "\n",
    "model_IoT = RandomForestRegressor().fit(X_train,y_train)\n",
    "y_pred= model_IoT.predict(X_test)\n",
    "r2_IoT = r2_score(y_test, y_pred)\n",
    "print('r2 score for IoT: {}'.format(r2_IoT))"
   ]
  },
  {
   "cell_type": "markdown",
   "id": "7d72989b",
   "metadata": {},
   "source": [
    "### Ridge Regression"
   ]
  },
  {
   "cell_type": "code",
   "execution_count": 139,
   "id": "221130b8",
   "metadata": {},
   "outputs": [
    {
     "name": "stdout",
     "output_type": "stream",
     "text": [
      "r2 score for IoT: 0.11763884558621351\n"
     ]
    }
   ],
   "source": [
    "from sklearn.linear_model import Ridge\n",
    "\n",
    "model_IoT = Ridge().fit(X_train,y_train)\n",
    "y_pred= model_IoT.predict(X_test)\n",
    "r2_IoT = r2_score(y_test, y_pred)\n",
    "print('r2 score for IoT: {}'.format(r2_IoT))"
   ]
  },
  {
   "cell_type": "markdown",
   "id": "7b954f53",
   "metadata": {},
   "source": [
    "### Lasso Regression"
   ]
  },
  {
   "cell_type": "code",
   "execution_count": 140,
   "id": "b3737c85",
   "metadata": {},
   "outputs": [
    {
     "name": "stdout",
     "output_type": "stream",
     "text": [
      "r2 score for IoT: -0.00838797026887339\n"
     ]
    }
   ],
   "source": [
    "from sklearn.linear_model import Lasso\n",
    "\n",
    "model_IoT = Lasso().fit(X_train,y_train)\n",
    "y_pred= model_IoT.predict(X_test)\n",
    "r2_IoT = r2_score(y_test, y_pred)\n",
    "print('r2 score for IoT: {}'.format(r2_IoT))"
   ]
  },
  {
   "cell_type": "markdown",
   "id": "2441ac45",
   "metadata": {},
   "source": [
    "### Regression with polynomial basis functions"
   ]
  },
  {
   "cell_type": "code",
   "execution_count": 271,
   "id": "0cc3efd1",
   "metadata": {},
   "outputs": [
    {
     "data": {
      "text/plain": [
       "Pipeline(steps=[('polynomialfeatures',\n",
       "                 PolynomialFeatures(degree=5, include_bias=False)),\n",
       "                ('linearregression', LinearRegression())])"
      ]
     },
     "execution_count": 271,
     "metadata": {},
     "output_type": "execute_result"
    }
   ],
   "source": [
    "from sklearn.preprocessing import PolynomialFeatures\n",
    "from sklearn.pipeline import make_pipeline\n",
    "\n",
    "poly_pipeline = make_pipeline(\n",
    "    PolynomialFeatures(degree=5, include_bias=False), \n",
    "    #MinMaxScaler(), \n",
    "    LinearRegression())\n",
    "poly_pipeline"
   ]
  },
  {
   "cell_type": "code",
   "execution_count": 272,
   "id": "46ee8420",
   "metadata": {},
   "outputs": [
    {
     "name": "stdout",
     "output_type": "stream",
     "text": [
      "r2 score for IoT: 0.32550103584583323\n"
     ]
    }
   ],
   "source": [
    "poly_pipeline.fit(X_train, y_train)\n",
    "y_pred = poly_pipeline.predict(X_test)\n",
    "r2_IoT = r2_score(y_test, y_pred)\n",
    "print('r2 score for IoT: {}'.format(r2_IoT))"
   ]
  },
  {
   "cell_type": "markdown",
   "id": "44e3f032",
   "metadata": {},
   "source": [
    "## Machine Learning on Manual Inspection Records"
   ]
  },
  {
   "cell_type": "code",
   "execution_count": 188,
   "id": "ed9235be",
   "metadata": {},
   "outputs": [
    {
     "name": "stdout",
     "output_type": "stream",
     "text": [
      "        PE1       PE2       PE3       PE4       TP1       TP2       EPOCH\n",
      "0  0.944212  0.969845  0.909817  0.752879  0.128703  0.729592  1593982800\n",
      "1  0.947971  0.971459  0.913576  0.753741  0.117572  0.723905  1593984600\n",
      "2  0.944138  0.968994  0.912516  0.753187  0.111242  0.720671  1593986400\n",
      "3  0.950337  0.976253  0.915991  0.756699  0.102464  0.716186  1593988200\n",
      "4  0.950226  0.975747  0.916188  0.756563  0.093201  0.711454  1593990000\n",
      "\n",
      "0    0.291841\n",
      "1    0.290384\n",
      "2    0.279458\n",
      "3    0.288927\n",
      "4    0.299610\n",
      "Name: FM1, dtype: float64\n"
     ]
    }
   ],
   "source": [
    "X2 = data_manual.iloc[:,1:]\n",
    "y2 = data_manual.iloc[:,0]\n",
    "print(X.head())\n",
    "print()\n",
    "print(y.head())"
   ]
  },
  {
   "cell_type": "code",
   "execution_count": 248,
   "id": "85a06794",
   "metadata": {},
   "outputs": [
    {
     "name": "stdout",
     "output_type": "stream",
     "text": [
      "(88512, 6)\n",
      "(22129, 6)\n",
      "(88512,)\n",
      "(22129,)\n"
     ]
    }
   ],
   "source": [
    "X2_train, X2_test, y2_train, y2_test = train_test_split(X2,y2, test_size=0.20, random_state = 5)\n",
    "print(X2_train.shape)\n",
    "print(X2_test.shape)\n",
    "print(y2_train.shape)\n",
    "print(y2_test.shape)"
   ]
  },
  {
   "cell_type": "markdown",
   "id": "bff42635",
   "metadata": {},
   "source": [
    "### Linear Regression"
   ]
  },
  {
   "cell_type": "code",
   "execution_count": 249,
   "id": "db71fb09",
   "metadata": {},
   "outputs": [
    {
     "name": "stdout",
     "output_type": "stream",
     "text": [
      "r2 score for manual: 0.034709086683466284\n"
     ]
    }
   ],
   "source": [
    "model_manual = LinearRegression().fit(X2_train, y2_train)\n",
    "y2_pred = model_manual.predict(X2_test)\n",
    "r2_manual = r2_score(y2_test, y2_pred)\n",
    "print('r2 score for manual: {}'.format(r2_manual))"
   ]
  },
  {
   "cell_type": "markdown",
   "id": "3ba30d4e",
   "metadata": {},
   "source": [
    "### XGB Regressor"
   ]
  },
  {
   "cell_type": "code",
   "execution_count": 250,
   "id": "d34fc9d9",
   "metadata": {},
   "outputs": [
    {
     "name": "stdout",
     "output_type": "stream",
     "text": [
      "r2 score for manual: 0.9981072591347184\n"
     ]
    }
   ],
   "source": [
    "model_manual = XGBRegressor().fit(X2_train,y2_train)\n",
    "y2_pred= model_manual.predict(X2_test)\n",
    "r2_manual = r2_score(y2_test, y2_pred)\n",
    "print('r2 score for manual: {}'.format(r2_manual))"
   ]
  },
  {
   "cell_type": "markdown",
   "id": "57d95f74",
   "metadata": {},
   "source": [
    "### Random Forest Regressor"
   ]
  },
  {
   "cell_type": "code",
   "execution_count": 251,
   "id": "f0bf71ad",
   "metadata": {},
   "outputs": [
    {
     "name": "stdout",
     "output_type": "stream",
     "text": [
      "r2 score for manual: 0.9997857300856291\n"
     ]
    }
   ],
   "source": [
    "model_manual = RandomForestRegressor().fit(X2_train,y2_train)\n",
    "y2_pred= model_manual.predict(X2_test)\n",
    "r2_manual = r2_score(y2_test, y2_pred)\n",
    "print('r2 score for manual: {}'.format(r2_manual))"
   ]
  },
  {
   "cell_type": "markdown",
   "id": "28439f42",
   "metadata": {},
   "source": [
    "### Ridge Regression"
   ]
  },
  {
   "cell_type": "code",
   "execution_count": 252,
   "id": "ae5c1b9a",
   "metadata": {},
   "outputs": [
    {
     "name": "stdout",
     "output_type": "stream",
     "text": [
      "r2 score for manual: 0.034707355788927474\n"
     ]
    },
    {
     "name": "stderr",
     "output_type": "stream",
     "text": [
      "C:\\Users\\C022\\anaconda3\\lib\\site-packages\\sklearn\\linear_model\\_ridge.py:147: LinAlgWarning: Ill-conditioned matrix (rcond=1.96212e-19): result may not be accurate.\n",
      "  return linalg.solve(A, Xy, sym_pos=True,\n"
     ]
    }
   ],
   "source": [
    "model_manual = Ridge().fit(X2_train,y2_train)\n",
    "y2_pred= model_manual.predict(X2_test)\n",
    "r2_manual = r2_score(y2_test, y2_pred)\n",
    "print('r2 score for manual: {}'.format(r2_manual))"
   ]
  },
  {
   "cell_type": "markdown",
   "id": "5a78483b",
   "metadata": {},
   "source": [
    "### Lasso Regression"
   ]
  },
  {
   "cell_type": "code",
   "execution_count": 253,
   "id": "a5b017ac",
   "metadata": {},
   "outputs": [
    {
     "name": "stdout",
     "output_type": "stream",
     "text": [
      "r2 score for manual: 0.00612440734115538\n"
     ]
    }
   ],
   "source": [
    "model_manual = Lasso().fit(X2_train,y2_train)\n",
    "y2_pred= model_manual.predict(X2_test)\n",
    "r2_manual = r2_score(y2_test, y2_pred)\n",
    "print('r2 score for manual: {}'.format(r2_manual))"
   ]
  },
  {
   "cell_type": "markdown",
   "id": "a37e4b90",
   "metadata": {},
   "source": [
    "### Regression with polynomial basis functions"
   ]
  },
  {
   "cell_type": "code",
   "execution_count": 256,
   "id": "b37d2b77",
   "metadata": {},
   "outputs": [
    {
     "data": {
      "text/plain": [
       "Pipeline(steps=[('polynomialfeatures',\n",
       "                 PolynomialFeatures(degree=5, include_bias=False)),\n",
       "                ('minmaxscaler', MinMaxScaler()),\n",
       "                ('linearregression', LinearRegression())])"
      ]
     },
     "execution_count": 256,
     "metadata": {},
     "output_type": "execute_result"
    }
   ],
   "source": [
    "from sklearn.preprocessing import PolynomialFeatures\n",
    "from sklearn.pipeline import make_pipeline\n",
    "\n",
    "poly_pipeline = make_pipeline(\n",
    "    PolynomialFeatures(degree=5, include_bias=False), \n",
    "    MinMaxScaler(), \n",
    "    LinearRegression())\n",
    "poly_pipeline"
   ]
  },
  {
   "cell_type": "code",
   "execution_count": 257,
   "id": "a351b583",
   "metadata": {},
   "outputs": [
    {
     "name": "stdout",
     "output_type": "stream",
     "text": [
      "r2 score for manual: 0.6731660877181009\n"
     ]
    }
   ],
   "source": [
    "poly_pipeline.fit(X2_train, y2_train)\n",
    "y2_pred = poly_pipeline.predict(X2_test)\n",
    "r2_manual = r2_score(y2_test, y2_pred)\n",
    "print('r2 score for manual: {}'.format(r2_manual))"
   ]
  },
  {
   "cell_type": "code",
   "execution_count": null,
   "id": "5afe08c3",
   "metadata": {},
   "outputs": [],
   "source": []
  }
 ],
 "metadata": {
  "kernelspec": {
   "display_name": "Python 3",
   "language": "python",
   "name": "python3"
  },
  "language_info": {
   "codemirror_mode": {
    "name": "ipython",
    "version": 3
   },
   "file_extension": ".py",
   "mimetype": "text/x-python",
   "name": "python",
   "nbconvert_exporter": "python",
   "pygments_lexer": "ipython3",
   "version": "3.8.8"
  }
 },
 "nbformat": 4,
 "nbformat_minor": 5
}
